{
 "cells": [
  {
   "cell_type": "markdown",
   "id": "afaebdff",
   "metadata": {},
   "source": [
    "# 📊 Tesla & GameStop Gelir Analizi\n",
    "Bu notebook, yfinance ve web scraping kullanarak Tesla ve GameStop şirketlerinin hisse ve gelir verilerini analiz eder."
   ]
  },
  {
   "cell_type": "code",
   "execution_count": null,
   "id": "0510a675",
   "metadata": {},
   "outputs": [],
   "source": [
    "import yfinance as yf\n",
    "\n",
    "# Tesla'nın hisse sembolü\n",
    "tesla = yf.Ticker(\"TSLA\")\n",
    "\n",
    "# Verileri en uzun periyot için alıyoruz\n",
    "tesla_data = tesla.history(period=\"max\")\n",
    "\n",
    "# İlk 5 satırı görelim\n",
    "tesla_data.reset_index(inplace=True)\n",
    "tesla_data.head()"
   ]
  },
  {
   "cell_type": "code",
   "execution_count": null,
   "id": "8b19a8e3",
   "metadata": {},
   "outputs": [],
   "source": [
    "import requests\n",
    "from bs4 import BeautifulSoup\n",
    "import pandas as pd\n",
    "\n",
    "company = \"TSLA\"  # \"GME\" yazarsan GameStop verisi gelir\n",
    "url = f\"https://www.macrotrends.net/stocks/charts/{company}/{company.lower()}/revenue\"\n",
    "\n",
    "headers = {\"User-Agent\": \"Mozilla/5.0\"}\n",
    "response = requests.get(url, headers=headers)\n",
    "soup = BeautifulSoup(response.text, \"html.parser\")\n",
    "\n",
    "tables = soup.find_all(\"table\")\n",
    "revenue_table = tables[1]\n",
    "df_revenue = pd.read_html(str(revenue_table))[0]\n",
    "df_revenue.columns = [\"Date\", \"Revenue\"]\n",
    "df_revenue.head()"
   ]
  },
  {
   "cell_type": "code",
   "execution_count": null,
   "id": "f4c3fd63",
   "metadata": {},
   "outputs": [],
   "source": [
    "# GameStop verisi\n",
    "gamestop = yf.Ticker(\"GME\")\n",
    "gamestop_data = gamestop.history(period=\"max\")\n",
    "gamestop_data.reset_index(inplace=True)\n",
    "gamestop_data.head()"
   ]
  },
  {
   "cell_type": "code",
   "execution_count": null,
   "id": "e1a18e20",
   "metadata": {},
   "outputs": [],
   "source": [
    "company = \"GME\"\n",
    "url = f\"https://www.macrotrends.net/stocks/charts/{company}/{company.lower()}/revenue\"\n",
    "\n",
    "response = requests.get(url, headers=headers)\n",
    "soup = BeautifulSoup(response.text, \"html.parser\")\n",
    "\n",
    "tables = soup.find_all(\"table\")\n",
    "revenue_table = tables[1]\n",
    "df_gme_revenue = pd.read_html(str(revenue_table))[0]\n",
    "df_gme_revenue.columns = [\"Date\", \"Revenue\"]\n",
    "df_gme_revenue.head()"
   ]
  },
  {
   "cell_type": "code",
   "execution_count": null,
   "id": "56c8c1e6",
   "metadata": {},
   "outputs": [],
   "source": [
    "df_revenue[\"Date\"] = pd.to_datetime(df_revenue[\"Date\"])\n",
    "df_revenue[\"Year\"] = df_revenue[\"Date\"].dt.year\n",
    "tesla_data[\"Year\"] = tesla_data[\"Date\"].dt.year\n",
    "\n",
    "tesla_avg_price = tesla_data.groupby(\"Year\")[\"Close\"].mean().reset_index()\n",
    "tesla_revenue_by_year = df_revenue.groupby(\"Year\")[\"Revenue\"].first().reset_index()\n",
    "\n",
    "tesla_indicator = pd.merge(tesla_avg_price, tesla_revenue_by_year, on=\"Year\", how=\"inner\")\n",
    "tesla_indicator.head()"
   ]
  },
  {
   "cell_type": "code",
   "execution_count": null,
   "id": "98e64ffa",
   "metadata": {},
   "outputs": [],
   "source": [
    "df_gme_revenue[\"Date\"] = pd.to_datetime(df_gme_revenue[\"Date\"])\n",
    "df_gme_revenue[\"Year\"] = df_gme_revenue[\"Date\"].dt.year\n",
    "gamestop_data[\"Year\"] = gamestop_data[\"Date\"].dt.year\n",
    "\n",
    "gme_avg_price = gamestop_data.groupby(\"Year\")[\"Close\"].mean().reset_index()\n",
    "gme_revenue_by_year = df_gme_revenue.groupby(\"Year\")[\"Revenue\"].first().reset_index()\n",
    "\n",
    "gme_indicator = pd.merge(gme_avg_price, gme_revenue_by_year, on=\"Year\", how=\"inner\")\n",
    "gme_indicator.head()"
   ]
  }
 ],
 "metadata": {},
 "nbformat": 4,
 "nbformat_minor": 5
}